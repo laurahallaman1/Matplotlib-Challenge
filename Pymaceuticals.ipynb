{
  "nbformat": 4,
  "nbformat_minor": 0,
  "metadata": {
    "anaconda-cloud": {},
    "kernelspec": {
      "display_name": "Python 3",
      "language": "python",
      "name": "python3"
    },
    "language_info": {
      "codemirror_mode": {
        "name": "ipython",
        "version": 3
      },
      "file_extension": ".py",
      "mimetype": "text/x-python",
      "name": "python",
      "nbconvert_exporter": "python",
      "pygments_lexer": "ipython3",
      "version": "3.7.4"
    },
    "colab": {
      "name": "Pymaceuticals.ipynb",
      "provenance": [],
      "collapsed_sections": []
    }
  },
  "cells": [
    {
      "cell_type": "code",
      "metadata": {
        "id": "b8xdHiCq1PQW",
        "colab_type": "code",
        "outputId": "6636429c-4591-4d07-c4d4-8fc3e7b78724",
        "colab": {
          "base_uri": "https://localhost:8080/",
          "height": 204
        }
      },
      "source": [
        "# Import Dependencies \n",
        "%matplotlib inline\n",
        "import matplotlib.pyplot as plt\n",
        "import pandas as pd\n",
        "import numpy as np\n",
        "\n",
        "# Hide warning messages in notebook\n",
        "import warnings\n",
        "warnings.filterwarnings('ignore')\n",
        "\n",
        "# File to Load (Remember to Change These)\n",
        "mouse_drug_data = \"https://raw.githubusercontent.com/laurahallaman1/Matplotlib-Challenge/master/data/mouse_drug_data.csv\"\n",
        "clinical_trial_data = \"https://raw.githubusercontent.com/laurahallaman1/Matplotlib-Challenge/master/data/clinicaltrial_data.csv\"\n",
        "\n",
        "# Read the Mouse and Drug Data and the Clinical Trial Data\n",
        "mouse_drug_data = pd.read_csv(mouse_drug_data)\n",
        "clinical_data = pd.read_csv(clinical_trial_data)\n",
        "\n",
        "# Combine the data into a single dataset\n",
        "clinical_trial_dataset = pd.merge(clinical_data, mouse_drug_data, how=\"left\", on=[\"Mouse ID\", \"Mouse ID\"])\n",
        "\n",
        "# Display the data table for preview\n",
        "clinical_trial_dataset.head()\n"
      ],
      "execution_count": 163,
      "outputs": [
        {
          "output_type": "execute_result",
          "data": {
            "text/html": [
              "<div>\n",
              "<style scoped>\n",
              "    .dataframe tbody tr th:only-of-type {\n",
              "        vertical-align: middle;\n",
              "    }\n",
              "\n",
              "    .dataframe tbody tr th {\n",
              "        vertical-align: top;\n",
              "    }\n",
              "\n",
              "    .dataframe thead th {\n",
              "        text-align: right;\n",
              "    }\n",
              "</style>\n",
              "<table border=\"1\" class=\"dataframe\">\n",
              "  <thead>\n",
              "    <tr style=\"text-align: right;\">\n",
              "      <th></th>\n",
              "      <th>Mouse ID</th>\n",
              "      <th>Timepoint</th>\n",
              "      <th>Tumor Volume (mm3)</th>\n",
              "      <th>Metastatic Sites</th>\n",
              "      <th>Drug</th>\n",
              "    </tr>\n",
              "  </thead>\n",
              "  <tbody>\n",
              "    <tr>\n",
              "      <th>0</th>\n",
              "      <td>b128</td>\n",
              "      <td>0</td>\n",
              "      <td>45.0</td>\n",
              "      <td>0</td>\n",
              "      <td>Capomulin</td>\n",
              "    </tr>\n",
              "    <tr>\n",
              "      <th>1</th>\n",
              "      <td>f932</td>\n",
              "      <td>0</td>\n",
              "      <td>45.0</td>\n",
              "      <td>0</td>\n",
              "      <td>Ketapril</td>\n",
              "    </tr>\n",
              "    <tr>\n",
              "      <th>2</th>\n",
              "      <td>g107</td>\n",
              "      <td>0</td>\n",
              "      <td>45.0</td>\n",
              "      <td>0</td>\n",
              "      <td>Ketapril</td>\n",
              "    </tr>\n",
              "    <tr>\n",
              "      <th>3</th>\n",
              "      <td>a457</td>\n",
              "      <td>0</td>\n",
              "      <td>45.0</td>\n",
              "      <td>0</td>\n",
              "      <td>Ketapril</td>\n",
              "    </tr>\n",
              "    <tr>\n",
              "      <th>4</th>\n",
              "      <td>c819</td>\n",
              "      <td>0</td>\n",
              "      <td>45.0</td>\n",
              "      <td>0</td>\n",
              "      <td>Ketapril</td>\n",
              "    </tr>\n",
              "  </tbody>\n",
              "</table>\n",
              "</div>"
            ],
            "text/plain": [
              "  Mouse ID  Timepoint  Tumor Volume (mm3)  Metastatic Sites       Drug\n",
              "0     b128          0                45.0                 0  Capomulin\n",
              "1     f932          0                45.0                 0   Ketapril\n",
              "2     g107          0                45.0                 0   Ketapril\n",
              "3     a457          0                45.0                 0   Ketapril\n",
              "4     c819          0                45.0                 0   Ketapril"
            ]
          },
          "metadata": {
            "tags": []
          },
          "execution_count": 163
        }
      ]
    },
    {
      "cell_type": "markdown",
      "metadata": {
        "id": "7S16zGAd1PQk",
        "colab_type": "text"
      },
      "source": [
        "## Tumor Response to Treatment"
      ]
    },
    {
      "cell_type": "code",
      "metadata": {
        "id": "p1Ls7pP61PQl",
        "colab_type": "code",
        "colab": {
          "base_uri": "https://localhost:8080/",
          "height": 235
        },
        "outputId": "980ee0a8-6693-49cf-adf4-8053239f027b"
      },
      "source": [
        "# Store the Mean Tumor Volume Data Grouped by Drug and Timepoint \n",
        "mean_tumor_vol = clinical_trial_dataset.groupby([\"Drug\", \"Timepoint\"]).mean()[\"Tumor Volume (mm3)\"]\n",
        "\n",
        "# Convert to DataFrame\n",
        "mean_tumor_vol = pd.DataFrame(mean_tumor_vol)\n",
        "\n",
        "# Preview DataFrame\n",
        "mean_tumor_vol.head()\n"
      ],
      "execution_count": 164,
      "outputs": [
        {
          "output_type": "execute_result",
          "data": {
            "text/html": [
              "<div>\n",
              "<style scoped>\n",
              "    .dataframe tbody tr th:only-of-type {\n",
              "        vertical-align: middle;\n",
              "    }\n",
              "\n",
              "    .dataframe tbody tr th {\n",
              "        vertical-align: top;\n",
              "    }\n",
              "\n",
              "    .dataframe thead th {\n",
              "        text-align: right;\n",
              "    }\n",
              "</style>\n",
              "<table border=\"1\" class=\"dataframe\">\n",
              "  <thead>\n",
              "    <tr style=\"text-align: right;\">\n",
              "      <th></th>\n",
              "      <th></th>\n",
              "      <th>Tumor Volume (mm3)</th>\n",
              "    </tr>\n",
              "    <tr>\n",
              "      <th>Drug</th>\n",
              "      <th>Timepoint</th>\n",
              "      <th></th>\n",
              "    </tr>\n",
              "  </thead>\n",
              "  <tbody>\n",
              "    <tr>\n",
              "      <th rowspan=\"5\" valign=\"top\">Capomulin</th>\n",
              "      <th>0</th>\n",
              "      <td>45.000000</td>\n",
              "    </tr>\n",
              "    <tr>\n",
              "      <th>5</th>\n",
              "      <td>44.266086</td>\n",
              "    </tr>\n",
              "    <tr>\n",
              "      <th>10</th>\n",
              "      <td>43.084291</td>\n",
              "    </tr>\n",
              "    <tr>\n",
              "      <th>15</th>\n",
              "      <td>42.064317</td>\n",
              "    </tr>\n",
              "    <tr>\n",
              "      <th>20</th>\n",
              "      <td>40.716325</td>\n",
              "    </tr>\n",
              "  </tbody>\n",
              "</table>\n",
              "</div>"
            ],
            "text/plain": [
              "                     Tumor Volume (mm3)\n",
              "Drug      Timepoint                    \n",
              "Capomulin 0                   45.000000\n",
              "          5                   44.266086\n",
              "          10                  43.084291\n",
              "          15                  42.064317\n",
              "          20                  40.716325"
            ]
          },
          "metadata": {
            "tags": []
          },
          "execution_count": 164
        }
      ]
    },
    {
      "cell_type": "code",
      "metadata": {
        "scrolled": true,
        "id": "3XUQAcPO1PQy",
        "colab_type": "code",
        "colab": {}
      },
      "source": [
        ""
      ],
      "execution_count": 0,
      "outputs": []
    },
    {
      "cell_type": "code",
      "metadata": {
        "id": "7EJm9kDI1PQ1",
        "colab_type": "code",
        "colab": {
          "base_uri": "https://localhost:8080/",
          "height": 235
        },
        "outputId": "82cf93f0-bc25-43ba-bdb4-b76518cfcd38"
      },
      "source": [
        "# Store the Standard Error of Tumor Volumes Grouped by Drug and Timepoint\n",
        "SEM_tumor_volume = clinical_trial_dataset.groupby([\"Drug\", \"Timepoint\"]).sem()[\"Tumor Volume (mm3)\"]\n",
        "\n",
        "# Convert to DataFrame\n",
        "SEM_tumor_volume = pd.DataFrame(SEM_tumor_volume)\n",
        "\n",
        "# Preview DataFrame\n",
        "SEM_tumor_volume.head()\n",
        "\n"
      ],
      "execution_count": 165,
      "outputs": [
        {
          "output_type": "execute_result",
          "data": {
            "text/html": [
              "<div>\n",
              "<style scoped>\n",
              "    .dataframe tbody tr th:only-of-type {\n",
              "        vertical-align: middle;\n",
              "    }\n",
              "\n",
              "    .dataframe tbody tr th {\n",
              "        vertical-align: top;\n",
              "    }\n",
              "\n",
              "    .dataframe thead th {\n",
              "        text-align: right;\n",
              "    }\n",
              "</style>\n",
              "<table border=\"1\" class=\"dataframe\">\n",
              "  <thead>\n",
              "    <tr style=\"text-align: right;\">\n",
              "      <th></th>\n",
              "      <th></th>\n",
              "      <th>Tumor Volume (mm3)</th>\n",
              "    </tr>\n",
              "    <tr>\n",
              "      <th>Drug</th>\n",
              "      <th>Timepoint</th>\n",
              "      <th></th>\n",
              "    </tr>\n",
              "  </thead>\n",
              "  <tbody>\n",
              "    <tr>\n",
              "      <th rowspan=\"5\" valign=\"top\">Capomulin</th>\n",
              "      <th>0</th>\n",
              "      <td>0.000000</td>\n",
              "    </tr>\n",
              "    <tr>\n",
              "      <th>5</th>\n",
              "      <td>0.448593</td>\n",
              "    </tr>\n",
              "    <tr>\n",
              "      <th>10</th>\n",
              "      <td>0.702684</td>\n",
              "    </tr>\n",
              "    <tr>\n",
              "      <th>15</th>\n",
              "      <td>0.838617</td>\n",
              "    </tr>\n",
              "    <tr>\n",
              "      <th>20</th>\n",
              "      <td>0.909731</td>\n",
              "    </tr>\n",
              "  </tbody>\n",
              "</table>\n",
              "</div>"
            ],
            "text/plain": [
              "                     Tumor Volume (mm3)\n",
              "Drug      Timepoint                    \n",
              "Capomulin 0                    0.000000\n",
              "          5                    0.448593\n",
              "          10                   0.702684\n",
              "          15                   0.838617\n",
              "          20                   0.909731"
            ]
          },
          "metadata": {
            "tags": []
          },
          "execution_count": 165
        }
      ]
    },
    {
      "cell_type": "code",
      "metadata": {
        "id": "nXLzSU6W1PQ4",
        "colab_type": "code",
        "outputId": "8cd75d94-cf23-4b97-e284-60d0398555f4",
        "colab": {
          "base_uri": "https://localhost:8080/",
          "height": 419
        }
      },
      "source": [
        "SEM_tumor_volume.reset_index()"
      ],
      "execution_count": 166,
      "outputs": [
        {
          "output_type": "execute_result",
          "data": {
            "text/html": [
              "<div>\n",
              "<style scoped>\n",
              "    .dataframe tbody tr th:only-of-type {\n",
              "        vertical-align: middle;\n",
              "    }\n",
              "\n",
              "    .dataframe tbody tr th {\n",
              "        vertical-align: top;\n",
              "    }\n",
              "\n",
              "    .dataframe thead th {\n",
              "        text-align: right;\n",
              "    }\n",
              "</style>\n",
              "<table border=\"1\" class=\"dataframe\">\n",
              "  <thead>\n",
              "    <tr style=\"text-align: right;\">\n",
              "      <th></th>\n",
              "      <th>Drug</th>\n",
              "      <th>Timepoint</th>\n",
              "      <th>Tumor Volume (mm3)</th>\n",
              "    </tr>\n",
              "  </thead>\n",
              "  <tbody>\n",
              "    <tr>\n",
              "      <th>0</th>\n",
              "      <td>Capomulin</td>\n",
              "      <td>0</td>\n",
              "      <td>0.000000</td>\n",
              "    </tr>\n",
              "    <tr>\n",
              "      <th>1</th>\n",
              "      <td>Capomulin</td>\n",
              "      <td>5</td>\n",
              "      <td>0.448593</td>\n",
              "    </tr>\n",
              "    <tr>\n",
              "      <th>2</th>\n",
              "      <td>Capomulin</td>\n",
              "      <td>10</td>\n",
              "      <td>0.702684</td>\n",
              "    </tr>\n",
              "    <tr>\n",
              "      <th>3</th>\n",
              "      <td>Capomulin</td>\n",
              "      <td>15</td>\n",
              "      <td>0.838617</td>\n",
              "    </tr>\n",
              "    <tr>\n",
              "      <th>4</th>\n",
              "      <td>Capomulin</td>\n",
              "      <td>20</td>\n",
              "      <td>0.909731</td>\n",
              "    </tr>\n",
              "    <tr>\n",
              "      <th>...</th>\n",
              "      <td>...</td>\n",
              "      <td>...</td>\n",
              "      <td>...</td>\n",
              "    </tr>\n",
              "    <tr>\n",
              "      <th>95</th>\n",
              "      <td>Zoniferol</td>\n",
              "      <td>25</td>\n",
              "      <td>0.602513</td>\n",
              "    </tr>\n",
              "    <tr>\n",
              "      <th>96</th>\n",
              "      <td>Zoniferol</td>\n",
              "      <td>30</td>\n",
              "      <td>0.800043</td>\n",
              "    </tr>\n",
              "    <tr>\n",
              "      <th>97</th>\n",
              "      <td>Zoniferol</td>\n",
              "      <td>35</td>\n",
              "      <td>0.881426</td>\n",
              "    </tr>\n",
              "    <tr>\n",
              "      <th>98</th>\n",
              "      <td>Zoniferol</td>\n",
              "      <td>40</td>\n",
              "      <td>0.998515</td>\n",
              "    </tr>\n",
              "    <tr>\n",
              "      <th>99</th>\n",
              "      <td>Zoniferol</td>\n",
              "      <td>45</td>\n",
              "      <td>1.003576</td>\n",
              "    </tr>\n",
              "  </tbody>\n",
              "</table>\n",
              "<p>100 rows × 3 columns</p>\n",
              "</div>"
            ],
            "text/plain": [
              "         Drug  Timepoint  Tumor Volume (mm3)\n",
              "0   Capomulin          0            0.000000\n",
              "1   Capomulin          5            0.448593\n",
              "2   Capomulin         10            0.702684\n",
              "3   Capomulin         15            0.838617\n",
              "4   Capomulin         20            0.909731\n",
              "..        ...        ...                 ...\n",
              "95  Zoniferol         25            0.602513\n",
              "96  Zoniferol         30            0.800043\n",
              "97  Zoniferol         35            0.881426\n",
              "98  Zoniferol         40            0.998515\n",
              "99  Zoniferol         45            1.003576\n",
              "\n",
              "[100 rows x 3 columns]"
            ]
          },
          "metadata": {
            "tags": []
          },
          "execution_count": 166
        }
      ]
    },
    {
      "cell_type": "code",
      "metadata": {
        "id": "Aa0SZ8qU1PRE",
        "colab_type": "code",
        "colab": {
          "base_uri": "https://localhost:8080/",
          "height": 235
        },
        "outputId": "36423cee-c4eb-43d8-be6d-7c5bc878031d"
      },
      "source": [
        "# Minor Data Munging to Re-Format the Data Frames\n",
        "mean_tumor_vol = mean_tumor_vol.reset_index()\n",
        "mean_tumor_vol_pivot = mean_tumor_vol.pivot(index=\"Timepoint\", columns=\"Drug\")[\"Tumor Volume (mm3)\"]\n",
        "\n",
        "SEM_tumor_volume = SEM_tumor_volume.reset_index()\n",
        "SEM_tumor_volume_pivot = SEM_tumor_volume.pivot(index=\"Timepoint\", columns=\"Drug\")[\"Tumor Volume (mm3)\"]\n",
        "\n",
        "\n",
        "mean_tumor_vol_pivot.head()"
      ],
      "execution_count": 167,
      "outputs": [
        {
          "output_type": "execute_result",
          "data": {
            "text/html": [
              "<div>\n",
              "<style scoped>\n",
              "    .dataframe tbody tr th:only-of-type {\n",
              "        vertical-align: middle;\n",
              "    }\n",
              "\n",
              "    .dataframe tbody tr th {\n",
              "        vertical-align: top;\n",
              "    }\n",
              "\n",
              "    .dataframe thead th {\n",
              "        text-align: right;\n",
              "    }\n",
              "</style>\n",
              "<table border=\"1\" class=\"dataframe\">\n",
              "  <thead>\n",
              "    <tr style=\"text-align: right;\">\n",
              "      <th>Drug</th>\n",
              "      <th>Capomulin</th>\n",
              "      <th>Ceftamin</th>\n",
              "      <th>Infubinol</th>\n",
              "      <th>Ketapril</th>\n",
              "      <th>Naftisol</th>\n",
              "      <th>Placebo</th>\n",
              "      <th>Propriva</th>\n",
              "      <th>Ramicane</th>\n",
              "      <th>Stelasyn</th>\n",
              "      <th>Zoniferol</th>\n",
              "    </tr>\n",
              "    <tr>\n",
              "      <th>Timepoint</th>\n",
              "      <th></th>\n",
              "      <th></th>\n",
              "      <th></th>\n",
              "      <th></th>\n",
              "      <th></th>\n",
              "      <th></th>\n",
              "      <th></th>\n",
              "      <th></th>\n",
              "      <th></th>\n",
              "      <th></th>\n",
              "    </tr>\n",
              "  </thead>\n",
              "  <tbody>\n",
              "    <tr>\n",
              "      <th>0</th>\n",
              "      <td>45.000000</td>\n",
              "      <td>45.000000</td>\n",
              "      <td>45.000000</td>\n",
              "      <td>45.000000</td>\n",
              "      <td>45.000000</td>\n",
              "      <td>45.000000</td>\n",
              "      <td>45.000000</td>\n",
              "      <td>45.000000</td>\n",
              "      <td>45.000000</td>\n",
              "      <td>45.000000</td>\n",
              "    </tr>\n",
              "    <tr>\n",
              "      <th>5</th>\n",
              "      <td>44.266086</td>\n",
              "      <td>46.503051</td>\n",
              "      <td>47.062001</td>\n",
              "      <td>47.389175</td>\n",
              "      <td>46.796098</td>\n",
              "      <td>47.125589</td>\n",
              "      <td>47.248967</td>\n",
              "      <td>43.944859</td>\n",
              "      <td>47.527452</td>\n",
              "      <td>46.851818</td>\n",
              "    </tr>\n",
              "    <tr>\n",
              "      <th>10</th>\n",
              "      <td>43.084291</td>\n",
              "      <td>48.285125</td>\n",
              "      <td>49.403909</td>\n",
              "      <td>49.582269</td>\n",
              "      <td>48.694210</td>\n",
              "      <td>49.423329</td>\n",
              "      <td>49.101541</td>\n",
              "      <td>42.531957</td>\n",
              "      <td>49.463844</td>\n",
              "      <td>48.689881</td>\n",
              "    </tr>\n",
              "    <tr>\n",
              "      <th>15</th>\n",
              "      <td>42.064317</td>\n",
              "      <td>50.094055</td>\n",
              "      <td>51.296397</td>\n",
              "      <td>52.399974</td>\n",
              "      <td>50.933018</td>\n",
              "      <td>51.359742</td>\n",
              "      <td>51.067318</td>\n",
              "      <td>41.495061</td>\n",
              "      <td>51.529409</td>\n",
              "      <td>50.779059</td>\n",
              "    </tr>\n",
              "    <tr>\n",
              "      <th>20</th>\n",
              "      <td>40.716325</td>\n",
              "      <td>52.157049</td>\n",
              "      <td>53.197691</td>\n",
              "      <td>54.920935</td>\n",
              "      <td>53.644087</td>\n",
              "      <td>54.364417</td>\n",
              "      <td>53.346737</td>\n",
              "      <td>40.238325</td>\n",
              "      <td>54.067395</td>\n",
              "      <td>53.170334</td>\n",
              "    </tr>\n",
              "  </tbody>\n",
              "</table>\n",
              "</div>"
            ],
            "text/plain": [
              "Drug       Capomulin   Ceftamin  Infubinol  ...   Ramicane   Stelasyn  Zoniferol\n",
              "Timepoint                                   ...                                 \n",
              "0          45.000000  45.000000  45.000000  ...  45.000000  45.000000  45.000000\n",
              "5          44.266086  46.503051  47.062001  ...  43.944859  47.527452  46.851818\n",
              "10         43.084291  48.285125  49.403909  ...  42.531957  49.463844  48.689881\n",
              "15         42.064317  50.094055  51.296397  ...  41.495061  51.529409  50.779059\n",
              "20         40.716325  52.157049  53.197691  ...  40.238325  54.067395  53.170334\n",
              "\n",
              "[5 rows x 10 columns]"
            ]
          },
          "metadata": {
            "tags": []
          },
          "execution_count": 167
        }
      ]
    },
    {
      "cell_type": "code",
      "metadata": {
        "id": "4TcDQeH61PRU",
        "colab_type": "code",
        "colab": {
          "base_uri": "https://localhost:8080/",
          "height": 295
        },
        "outputId": "007b8b20-9f44-491d-f42a-ee69a5dea3bb"
      },
      "source": [
        "# Import Dependencies \n",
        "%matplotlib inline\n",
        "import matplotlib.pyplot as plt\n",
        "import pandas as pd\n",
        "import numpy as np\n",
        "\n",
        "# Generate the Plot (with Error Bars)\n",
        "plt.errorbar(mean_tumor_vol_pivot.index, mean_tumor_vol_pivot[\"Capomulin\"], yerr=SEM_tumor_volume_pivot[\"Capomulin\"], color=\"r\", marker=\"o\", markersize=5, linestyle=\"dashed\", linewidth=0.75)\n",
        "plt.errorbar(mean_tumor_vol_pivot.index, mean_tumor_vol_pivot[\"Infubinol\"], yerr=SEM_tumor_volume_pivot[\"Infubinol\"], color=\"b\", marker=\"^\", markersize=5, linestyle=\"dashed\", linewidth=0.75)\n",
        "plt.errorbar(mean_tumor_vol_pivot.index, mean_tumor_vol_pivot[\"Ketapril\"], yerr=SEM_tumor_volume_pivot[\"Ketapril\"], color=\"g\", marker=\"s\", markersize=5, linestyle=\"dashed\", linewidth=0.75)\n",
        "plt.errorbar(mean_tumor_vol_pivot.index, mean_tumor_vol_pivot[\"Placebo\"], yerr=SEM_tumor_volume_pivot[\"Placebo\"], color=\"k\", marker=\"d\", markersize=5, linestyle=\"dashed\", linewidth=0.75)\n",
        "\n",
        "plt.title(\"Tumor Response to Treatment\")\n",
        "plt.ylabel(\"Tumor Volume (mm3)\")\n",
        "plt.xlabel(\"Time (Days)\")\n",
        "plt.legend(['Capomulin', 'Infubinol', 'Ketapril', 'Placebo'],loc=\"best\", fontsize=\"small\")\n",
        "\n",
        "# Show the Figure\n",
        "plt.show()\n",
        "\n",
        "# Save the Figure\n",
        "\n"
      ],
      "execution_count": 168,
      "outputs": [
        {
          "output_type": "display_data",
          "data": {
            "image/png": "[encoded data removed]",
            "text/plain": [
              "<Figure size 432x288 with 1 Axes>"
            ]
          },
          "metadata": {
            "tags": [],
            "needs_background": "light"
          }
        }
      ]
    },
    {
      "cell_type": "code",
      "metadata": {
        "id": "5SnzPkpw1PRY",
        "colab_type": "code",
        "colab": {}
      },
      "source": [
        "# Show the Figure\n",
        "plt.show()"
      ],
      "execution_count": 0,
      "outputs": []
    },
    {
      "cell_type": "markdown",
      "metadata": {
        "id": "UFapBtPh1PRd",
        "colab_type": "text"
      },
      "source": [
        "## Metastatic Response to Treatment"
      ]
    },
    {
      "cell_type": "code",
      "metadata": {
        "id": "aJ2jb4sa1PRh",
        "colab_type": "code",
        "colab": {
          "base_uri": "https://localhost:8080/",
          "height": 235
        },
        "outputId": "5e244f8b-6d71-474f-c666-1f30e560e5dc"
      },
      "source": [
        "# Store the Mean Met. Site Data Grouped by Drug and Timepoint \n",
        "mean_site_data = clinical_trial_dataset.groupby([\"Drug\", \"Timepoint\"]).mean()[\"Metastatic Sites\"]\n",
        "\n",
        "# Convert to DataFrame\n",
        "mean_site_data = pd.DataFrame(mean_site_data)\n",
        "\n",
        "# Preview DataFrame\n",
        "mean_site_data.head()"
      ],
      "execution_count": 170,
      "outputs": [
        {
          "output_type": "execute_result",
          "data": {
            "text/html": [
              "<div>\n",
              "<style scoped>\n",
              "    .dataframe tbody tr th:only-of-type {\n",
              "        vertical-align: middle;\n",
              "    }\n",
              "\n",
              "    .dataframe tbody tr th {\n",
              "        vertical-align: top;\n",
              "    }\n",
              "\n",
              "    .dataframe thead th {\n",
              "        text-align: right;\n",
              "    }\n",
              "</style>\n",
              "<table border=\"1\" class=\"dataframe\">\n",
              "  <thead>\n",
              "    <tr style=\"text-align: right;\">\n",
              "      <th></th>\n",
              "      <th></th>\n",
              "      <th>Metastatic Sites</th>\n",
              "    </tr>\n",
              "    <tr>\n",
              "      <th>Drug</th>\n",
              "      <th>Timepoint</th>\n",
              "      <th></th>\n",
              "    </tr>\n",
              "  </thead>\n",
              "  <tbody>\n",
              "    <tr>\n",
              "      <th rowspan=\"5\" valign=\"top\">Capomulin</th>\n",
              "      <th>0</th>\n",
              "      <td>0.000000</td>\n",
              "    </tr>\n",
              "    <tr>\n",
              "      <th>5</th>\n",
              "      <td>0.160000</td>\n",
              "    </tr>\n",
              "    <tr>\n",
              "      <th>10</th>\n",
              "      <td>0.320000</td>\n",
              "    </tr>\n",
              "    <tr>\n",
              "      <th>15</th>\n",
              "      <td>0.375000</td>\n",
              "    </tr>\n",
              "    <tr>\n",
              "      <th>20</th>\n",
              "      <td>0.652174</td>\n",
              "    </tr>\n",
              "  </tbody>\n",
              "</table>\n",
              "</div>"
            ],
            "text/plain": [
              "                     Metastatic Sites\n",
              "Drug      Timepoint                  \n",
              "Capomulin 0                  0.000000\n",
              "          5                  0.160000\n",
              "          10                 0.320000\n",
              "          15                 0.375000\n",
              "          20                 0.652174"
            ]
          },
          "metadata": {
            "tags": []
          },
          "execution_count": 170
        }
      ]
    },
    {
      "cell_type": "code",
      "metadata": {
        "id": "UekjDtY61PRo",
        "colab_type": "code",
        "outputId": "3d7588f8-825b-4cf5-d50a-bc1f38239b23",
        "colab": {
          "base_uri": "https://localhost:8080/",
          "height": 235
        }
      },
      "source": [
        "\n",
        "# Store the Standard Error associated with Met. Sites Grouped by Drug and Timepoint \n",
        "\n",
        "# Convert to DataFrame\n",
        "\n",
        "# Preview DataFrame\n",
        "\n",
        "SEM_site_data = clinical_trial_dataset.groupby([\"Drug\", \"Timepoint\"]).sem()[\"Metastatic Sites\"]\n",
        "\n",
        "SEM_site_data = pd.DataFrame(SEM_site_data)\n",
        "\n",
        "SEM_site_data.head()"
      ],
      "execution_count": 171,
      "outputs": [
        {
          "output_type": "execute_result",
          "data": {
            "text/html": [
              "<div>\n",
              "<style scoped>\n",
              "    .dataframe tbody tr th:only-of-type {\n",
              "        vertical-align: middle;\n",
              "    }\n",
              "\n",
              "    .dataframe tbody tr th {\n",
              "        vertical-align: top;\n",
              "    }\n",
              "\n",
              "    .dataframe thead th {\n",
              "        text-align: right;\n",
              "    }\n",
              "</style>\n",
              "<table border=\"1\" class=\"dataframe\">\n",
              "  <thead>\n",
              "    <tr style=\"text-align: right;\">\n",
              "      <th></th>\n",
              "      <th></th>\n",
              "      <th>Metastatic Sites</th>\n",
              "    </tr>\n",
              "    <tr>\n",
              "      <th>Drug</th>\n",
              "      <th>Timepoint</th>\n",
              "      <th></th>\n",
              "    </tr>\n",
              "  </thead>\n",
              "  <tbody>\n",
              "    <tr>\n",
              "      <th rowspan=\"5\" valign=\"top\">Capomulin</th>\n",
              "      <th>0</th>\n",
              "      <td>0.000000</td>\n",
              "    </tr>\n",
              "    <tr>\n",
              "      <th>5</th>\n",
              "      <td>0.074833</td>\n",
              "    </tr>\n",
              "    <tr>\n",
              "      <th>10</th>\n",
              "      <td>0.125433</td>\n",
              "    </tr>\n",
              "    <tr>\n",
              "      <th>15</th>\n",
              "      <td>0.132048</td>\n",
              "    </tr>\n",
              "    <tr>\n",
              "      <th>20</th>\n",
              "      <td>0.161621</td>\n",
              "    </tr>\n",
              "  </tbody>\n",
              "</table>\n",
              "</div>"
            ],
            "text/plain": [
              "                     Metastatic Sites\n",
              "Drug      Timepoint                  \n",
              "Capomulin 0                  0.000000\n",
              "          5                  0.074833\n",
              "          10                 0.125433\n",
              "          15                 0.132048\n",
              "          20                 0.161621"
            ]
          },
          "metadata": {
            "tags": []
          },
          "execution_count": 171
        }
      ]
    },
    {
      "cell_type": "code",
      "metadata": {
        "id": "FshfR_xs1PR2",
        "colab_type": "code",
        "colab": {
          "base_uri": "https://localhost:8080/",
          "height": 235
        },
        "outputId": "119d1f70-21d8-458a-f74c-fc580239f2ed"
      },
      "source": [
        "# Minor Data Munging to Re-Format the Data Frames\n",
        "mean_site_data = mean_site_data.reset_index()\n",
        "mean_site_data_pivot = mean_site_data.pivot(index=\"Timepoint\", columns=\"Drug\")[\"Metastatic Sites\"]\n",
        "\n",
        "SEM_site_data = SEM_site_data.reset_index()\n",
        "SEM_site_data_pivot = SEM_site_data.pivot(index=\"Timepoint\", columns=\"Drug\")[\"Metastatic Sites\"]\n",
        "\n",
        "# Preview that Reformatting worked\n",
        "mean_site_data_pivot.head()"
      ],
      "execution_count": 172,
      "outputs": [
        {
          "output_type": "execute_result",
          "data": {
            "text/html": [
              "<div>\n",
              "<style scoped>\n",
              "    .dataframe tbody tr th:only-of-type {\n",
              "        vertical-align: middle;\n",
              "    }\n",
              "\n",
              "    .dataframe tbody tr th {\n",
              "        vertical-align: top;\n",
              "    }\n",
              "\n",
              "    .dataframe thead th {\n",
              "        text-align: right;\n",
              "    }\n",
              "</style>\n",
              "<table border=\"1\" class=\"dataframe\">\n",
              "  <thead>\n",
              "    <tr style=\"text-align: right;\">\n",
              "      <th>Drug</th>\n",
              "      <th>Capomulin</th>\n",
              "      <th>Ceftamin</th>\n",
              "      <th>Infubinol</th>\n",
              "      <th>Ketapril</th>\n",
              "      <th>Naftisol</th>\n",
              "      <th>Placebo</th>\n",
              "      <th>Propriva</th>\n",
              "      <th>Ramicane</th>\n",
              "      <th>Stelasyn</th>\n",
              "      <th>Zoniferol</th>\n",
              "    </tr>\n",
              "    <tr>\n",
              "      <th>Timepoint</th>\n",
              "      <th></th>\n",
              "      <th></th>\n",
              "      <th></th>\n",
              "      <th></th>\n",
              "      <th></th>\n",
              "      <th></th>\n",
              "      <th></th>\n",
              "      <th></th>\n",
              "      <th></th>\n",
              "      <th></th>\n",
              "    </tr>\n",
              "  </thead>\n",
              "  <tbody>\n",
              "    <tr>\n",
              "      <th>0</th>\n",
              "      <td>0.000000</td>\n",
              "      <td>0.000000</td>\n",
              "      <td>0.000000</td>\n",
              "      <td>0.000000</td>\n",
              "      <td>0.000000</td>\n",
              "      <td>0.000000</td>\n",
              "      <td>0.000000</td>\n",
              "      <td>0.000000</td>\n",
              "      <td>0.000000</td>\n",
              "      <td>0.000000</td>\n",
              "    </tr>\n",
              "    <tr>\n",
              "      <th>5</th>\n",
              "      <td>0.160000</td>\n",
              "      <td>0.380952</td>\n",
              "      <td>0.280000</td>\n",
              "      <td>0.304348</td>\n",
              "      <td>0.260870</td>\n",
              "      <td>0.375000</td>\n",
              "      <td>0.320000</td>\n",
              "      <td>0.120000</td>\n",
              "      <td>0.240000</td>\n",
              "      <td>0.166667</td>\n",
              "    </tr>\n",
              "    <tr>\n",
              "      <th>10</th>\n",
              "      <td>0.320000</td>\n",
              "      <td>0.600000</td>\n",
              "      <td>0.666667</td>\n",
              "      <td>0.590909</td>\n",
              "      <td>0.523810</td>\n",
              "      <td>0.833333</td>\n",
              "      <td>0.565217</td>\n",
              "      <td>0.250000</td>\n",
              "      <td>0.478261</td>\n",
              "      <td>0.500000</td>\n",
              "    </tr>\n",
              "    <tr>\n",
              "      <th>15</th>\n",
              "      <td>0.375000</td>\n",
              "      <td>0.789474</td>\n",
              "      <td>0.904762</td>\n",
              "      <td>0.842105</td>\n",
              "      <td>0.857143</td>\n",
              "      <td>1.250000</td>\n",
              "      <td>0.764706</td>\n",
              "      <td>0.333333</td>\n",
              "      <td>0.782609</td>\n",
              "      <td>0.809524</td>\n",
              "    </tr>\n",
              "    <tr>\n",
              "      <th>20</th>\n",
              "      <td>0.652174</td>\n",
              "      <td>1.111111</td>\n",
              "      <td>1.050000</td>\n",
              "      <td>1.210526</td>\n",
              "      <td>1.150000</td>\n",
              "      <td>1.526316</td>\n",
              "      <td>1.000000</td>\n",
              "      <td>0.347826</td>\n",
              "      <td>0.952381</td>\n",
              "      <td>1.294118</td>\n",
              "    </tr>\n",
              "  </tbody>\n",
              "</table>\n",
              "</div>"
            ],
            "text/plain": [
              "Drug       Capomulin  Ceftamin  Infubinol  ...  Ramicane  Stelasyn  Zoniferol\n",
              "Timepoint                                  ...                               \n",
              "0           0.000000  0.000000   0.000000  ...  0.000000  0.000000   0.000000\n",
              "5           0.160000  0.380952   0.280000  ...  0.120000  0.240000   0.166667\n",
              "10          0.320000  0.600000   0.666667  ...  0.250000  0.478261   0.500000\n",
              "15          0.375000  0.789474   0.904762  ...  0.333333  0.782609   0.809524\n",
              "20          0.652174  1.111111   1.050000  ...  0.347826  0.952381   1.294118\n",
              "\n",
              "[5 rows x 10 columns]"
            ]
          },
          "metadata": {
            "tags": []
          },
          "execution_count": 172
        }
      ]
    },
    {
      "cell_type": "code",
      "metadata": {
        "scrolled": true,
        "id": "eYDYE6Nv1PR4",
        "colab_type": "code",
        "colab": {}
      },
      "source": [
        ""
      ],
      "execution_count": 0,
      "outputs": []
    },
    {
      "cell_type": "code",
      "metadata": {
        "id": "N4OwRXUb1PR7",
        "colab_type": "code",
        "colab": {
          "base_uri": "https://localhost:8080/",
          "height": 295
        },
        "outputId": "b349f2a8-77fc-4903-923a-93f28042eeee"
      },
      "source": [
        "# Generate the Plot (with Error Bars)\n",
        "plt.errorbar(mean_site_data_pivot.index, mean_site_data_pivot[\"Capomulin\"], yerr=SEM_site_data_pivot[\"Capomulin\"], color=\"r\", marker=\"o\", markersize=5, linestyle=\"dashed\", linewidth=0.75)\n",
        "plt.errorbar(mean_site_data_pivot.index, mean_site_data_pivot[\"Infubinol\"], yerr=SEM_site_data_pivot[\"Infubinol\"], color=\"b\", marker=\"^\", markersize=5, linestyle=\"dashed\", linewidth=0.75)\n",
        "plt.errorbar(mean_site_data_pivot.index, mean_site_data_pivot[\"Ketapril\"], yerr=SEM_site_data_pivot[\"Ketapril\"], color=\"g\", marker=\"s\", markersize=5, linestyle=\"dashed\", linewidth=0.75)\n",
        "plt.errorbar(mean_site_data_pivot.index, mean_site_data_pivot[\"Placebo\"], yerr=SEM_site_data_pivot[\"Placebo\"], color=\"k\", marker=\"d\", markersize=5, linestyle=\"dashed\", linewidth=0.75)\n",
        "\n",
        "plt.title(\"Metastatic Spread During Treatment\")\n",
        "plt.ylabel(\"Met. Sites\")\n",
        "plt.xlabel(\"Treatment Duration (Days)\")\n",
        "plt.legend(['Capomulin', 'Infubinol', 'Ketapril', 'Placebo'], loc=\"best\", fontsize=\"small\")\n",
        "\n",
        "# Save the Figure\n",
        "\n",
        "# Show the Figure\n",
        "plt.show()"
      ],
      "execution_count": 173,
      "outputs": [
        {
          "output_type": "display_data",
          "data": {
            "image/png": "[encoded data removed]",
            "text/plain": [
              "<Figure size 432x288 with 1 Axes>"
            ]
          },
          "metadata": {
            "tags": [],
            "needs_background": "light"
          }
        }
      ]
    },
    {
      "cell_type": "markdown",
      "metadata": {
        "id": "dEOsl7iN1PR-",
        "colab_type": "text"
      },
      "source": [
        "## Survival Rates"
      ]
    },
    {
      "cell_type": "code",
      "metadata": {
        "id": "Ul-KUc-F1PR_",
        "colab_type": "code",
        "colab": {
          "base_uri": "https://localhost:8080/",
          "height": 235
        },
        "outputId": "0fe30b88-4aca-45df-f6fa-abea2d16d362"
      },
      "source": [
        "# Store the Count of Mice Grouped by Drug and Timepoint (W can pass any metric)\n",
        "survival_rate = clinical_trial_dataset.groupby([\"Drug\", \"Timepoint\"]).count()[\"Tumor Volume (mm3)\"]\n",
        "\n",
        "# Convert to DataFrame\n",
        "survival_rate = pd.DataFrame({\"Mouse Count\": survival_rate})\n",
        "\n",
        "# Preview DataFrame\n",
        "survival_rate.head()"
      ],
      "execution_count": 174,
      "outputs": [
        {
          "output_type": "execute_result",
          "data": {
            "text/html": [
              "<div>\n",
              "<style scoped>\n",
              "    .dataframe tbody tr th:only-of-type {\n",
              "        vertical-align: middle;\n",
              "    }\n",
              "\n",
              "    .dataframe tbody tr th {\n",
              "        vertical-align: top;\n",
              "    }\n",
              "\n",
              "    .dataframe thead th {\n",
              "        text-align: right;\n",
              "    }\n",
              "</style>\n",
              "<table border=\"1\" class=\"dataframe\">\n",
              "  <thead>\n",
              "    <tr style=\"text-align: right;\">\n",
              "      <th></th>\n",
              "      <th></th>\n",
              "      <th>Mouse Count</th>\n",
              "    </tr>\n",
              "    <tr>\n",
              "      <th>Drug</th>\n",
              "      <th>Timepoint</th>\n",
              "      <th></th>\n",
              "    </tr>\n",
              "  </thead>\n",
              "  <tbody>\n",
              "    <tr>\n",
              "      <th rowspan=\"5\" valign=\"top\">Capomulin</th>\n",
              "      <th>0</th>\n",
              "      <td>25</td>\n",
              "    </tr>\n",
              "    <tr>\n",
              "      <th>5</th>\n",
              "      <td>25</td>\n",
              "    </tr>\n",
              "    <tr>\n",
              "      <th>10</th>\n",
              "      <td>25</td>\n",
              "    </tr>\n",
              "    <tr>\n",
              "      <th>15</th>\n",
              "      <td>24</td>\n",
              "    </tr>\n",
              "    <tr>\n",
              "      <th>20</th>\n",
              "      <td>23</td>\n",
              "    </tr>\n",
              "  </tbody>\n",
              "</table>\n",
              "</div>"
            ],
            "text/plain": [
              "                     Mouse Count\n",
              "Drug      Timepoint             \n",
              "Capomulin 0                   25\n",
              "          5                   25\n",
              "          10                  25\n",
              "          15                  24\n",
              "          20                  23"
            ]
          },
          "metadata": {
            "tags": []
          },
          "execution_count": 174
        }
      ]
    },
    {
      "cell_type": "code",
      "metadata": {
        "id": "4qHN7frCH-nf",
        "colab_type": "code",
        "outputId": "8dca8e5d-c535-4240-8887-de84c12f5b31",
        "colab": {
          "base_uri": "https://localhost:8080/",
          "height": 235
        }
      },
      "source": [
        "# Minor Data Munging to Re-Format the Data Frames\n",
        "survival_rate = survival_rate.reset_index()\n",
        "survival_rate_xy = survival_rate.pivot(index=\"Timepoint\", columns=\"Drug\")[\"Mouse Count\"]\n",
        "\n",
        "# Preview the Data Frame\n",
        "survival_rate_xy.head()"
      ],
      "execution_count": 175,
      "outputs": [
        {
          "output_type": "execute_result",
          "data": {
            "text/html": [
              "<div>\n",
              "<style scoped>\n",
              "    .dataframe tbody tr th:only-of-type {\n",
              "        vertical-align: middle;\n",
              "    }\n",
              "\n",
              "    .dataframe tbody tr th {\n",
              "        vertical-align: top;\n",
              "    }\n",
              "\n",
              "    .dataframe thead th {\n",
              "        text-align: right;\n",
              "    }\n",
              "</style>\n",
              "<table border=\"1\" class=\"dataframe\">\n",
              "  <thead>\n",
              "    <tr style=\"text-align: right;\">\n",
              "      <th>Drug</th>\n",
              "      <th>Capomulin</th>\n",
              "      <th>Ceftamin</th>\n",
              "      <th>Infubinol</th>\n",
              "      <th>Ketapril</th>\n",
              "      <th>Naftisol</th>\n",
              "      <th>Placebo</th>\n",
              "      <th>Propriva</th>\n",
              "      <th>Ramicane</th>\n",
              "      <th>Stelasyn</th>\n",
              "      <th>Zoniferol</th>\n",
              "    </tr>\n",
              "    <tr>\n",
              "      <th>Timepoint</th>\n",
              "      <th></th>\n",
              "      <th></th>\n",
              "      <th></th>\n",
              "      <th></th>\n",
              "      <th></th>\n",
              "      <th></th>\n",
              "      <th></th>\n",
              "      <th></th>\n",
              "      <th></th>\n",
              "      <th></th>\n",
              "    </tr>\n",
              "  </thead>\n",
              "  <tbody>\n",
              "    <tr>\n",
              "      <th>0</th>\n",
              "      <td>25</td>\n",
              "      <td>25</td>\n",
              "      <td>25</td>\n",
              "      <td>25</td>\n",
              "      <td>25</td>\n",
              "      <td>25</td>\n",
              "      <td>26</td>\n",
              "      <td>25</td>\n",
              "      <td>26</td>\n",
              "      <td>25</td>\n",
              "    </tr>\n",
              "    <tr>\n",
              "      <th>5</th>\n",
              "      <td>25</td>\n",
              "      <td>21</td>\n",
              "      <td>25</td>\n",
              "      <td>23</td>\n",
              "      <td>23</td>\n",
              "      <td>24</td>\n",
              "      <td>25</td>\n",
              "      <td>25</td>\n",
              "      <td>25</td>\n",
              "      <td>24</td>\n",
              "    </tr>\n",
              "    <tr>\n",
              "      <th>10</th>\n",
              "      <td>25</td>\n",
              "      <td>20</td>\n",
              "      <td>21</td>\n",
              "      <td>22</td>\n",
              "      <td>21</td>\n",
              "      <td>24</td>\n",
              "      <td>23</td>\n",
              "      <td>24</td>\n",
              "      <td>23</td>\n",
              "      <td>22</td>\n",
              "    </tr>\n",
              "    <tr>\n",
              "      <th>15</th>\n",
              "      <td>24</td>\n",
              "      <td>19</td>\n",
              "      <td>21</td>\n",
              "      <td>19</td>\n",
              "      <td>21</td>\n",
              "      <td>20</td>\n",
              "      <td>17</td>\n",
              "      <td>24</td>\n",
              "      <td>23</td>\n",
              "      <td>21</td>\n",
              "    </tr>\n",
              "    <tr>\n",
              "      <th>20</th>\n",
              "      <td>23</td>\n",
              "      <td>18</td>\n",
              "      <td>20</td>\n",
              "      <td>19</td>\n",
              "      <td>20</td>\n",
              "      <td>19</td>\n",
              "      <td>17</td>\n",
              "      <td>23</td>\n",
              "      <td>21</td>\n",
              "      <td>17</td>\n",
              "    </tr>\n",
              "  </tbody>\n",
              "</table>\n",
              "</div>"
            ],
            "text/plain": [
              "Drug       Capomulin  Ceftamin  Infubinol  ...  Ramicane  Stelasyn  Zoniferol\n",
              "Timepoint                                  ...                               \n",
              "0                 25        25         25  ...        25        26         25\n",
              "5                 25        21         25  ...        25        25         24\n",
              "10                25        20         21  ...        24        23         22\n",
              "15                24        19         21  ...        24        23         21\n",
              "20                23        18         20  ...        23        21         17\n",
              "\n",
              "[5 rows x 10 columns]"
            ]
          },
          "metadata": {
            "tags": []
          },
          "execution_count": 175
        }
      ]
    },
    {
      "cell_type": "code",
      "metadata": {
        "id": "NLmxHacW1PSK",
        "colab_type": "code",
        "colab": {
          "base_uri": "https://localhost:8080/",
          "height": 295
        },
        "outputId": "42bc04b2-d871-4de9-8fa0-cbf2b3f185ae"
      },
      "source": [
        "# Generate the Plot (Accounting for percentages)\n",
        "plt.plot(100 * survival_rate_xy[\"Capomulin\"] / 25, \"ro\", linestyle=\"dashed\", markersize=5, linewidth=0.75)\n",
        "plt.plot(100 * survival_rate_xy[\"Infubinol\"] / 25, \"b^\", linestyle=\"dashed\", markersize=5, linewidth=0.75)\n",
        "plt.plot(100 * survival_rate_xy[\"Ketapril\"] / 25, \"gs\", linestyle=\"dashed\", markersize=5, linewidth=0.75)\n",
        "plt.plot(100 * survival_rate_xy[\"Placebo\"] / 25 , \"kd\", linestyle=\"dashed\", markersize=5, linewidth=0.75)\n",
        "plt.title(\"Survival During Treatment\")\n",
        "plt.ylabel(\"Survival Rate (%)\")\n",
        "plt.xlabel(\"Time (Days)\")\n",
        "plt.legend(['Capomulin', 'Infubinol', 'Ketapril', 'Placebo'], loc=\"best\", fontsize=\"small\")\n",
        "\n",
        "# Show the Figure\n",
        "plt.show()\n",
        "\n",
        "# Save the Figure\n",
        "\n"
      ],
      "execution_count": 176,
      "outputs": [
        {
          "output_type": "display_data",
          "data": {
            "image/png": "[encoded data removed]",
            "text/plain": [
              "<Figure size 432x288 with 1 Axes>"
            ]
          },
          "metadata": {
            "tags": [],
            "needs_background": "light"
          }
        }
      ]
    },
    {
      "cell_type": "markdown",
      "metadata": {
        "id": "rmIgJ7U91PSN",
        "colab_type": "text"
      },
      "source": [
        "## Summary Bar Graph"
      ]
    },
    {
      "cell_type": "code",
      "metadata": {
        "id": "d7sxw1Ej1PSO",
        "colab_type": "code",
        "colab": {
          "base_uri": "https://localhost:8080/",
          "height": 255
        },
        "outputId": "90cd44cd-de5f-45e6-c70a-860238f4df12"
      },
      "source": [
        "# Calculate the percent changes for each drug\n",
        "percent_change_a = survival_rate_xy.groupby([\"Capomulin\"]).pct_change()\n",
        "percent_change_b = survival_rate_xy.groupby([\"Infubinol\"]).pct_change()\n",
        "percent_change_c = survival_rate_xy.groupby([\"Ketapril\"]).pct_change()\n",
        "percent_change_d = survival_rate_xy.groupby([\"Placebo\"]).pct_change()\n",
        "\n",
        "\n",
        "\n",
        "# Display the data to confirm\n",
        "percent_change = percent_change_a.dropna\n",
        "percent_change\n",
        "\n"
      ],
      "execution_count": 177,
      "outputs": [
        {
          "output_type": "execute_result",
          "data": {
            "text/plain": [
              "<bound method DataFrame.dropna of            Ceftamin  Infubinol  Ketapril  ...  Ramicane  Stelasyn  Zoniferol\n",
              "Timepoint                                 ...                               \n",
              "0               NaN        NaN       NaN  ...       NaN       NaN        NaN\n",
              "5         -0.160000   0.000000 -0.080000  ...  0.000000 -0.038462  -0.040000\n",
              "10        -0.047619  -0.160000 -0.043478  ... -0.040000 -0.080000  -0.083333\n",
              "15              NaN        NaN       NaN  ...       NaN       NaN        NaN\n",
              "20              NaN        NaN       NaN  ...       NaN       NaN        NaN\n",
              "25              NaN        NaN       NaN  ...       NaN       NaN        NaN\n",
              "30        -0.111111  -0.055556 -0.052632  ...  0.000000 -0.052632  -0.062500\n",
              "35        -0.125000  -0.294118 -0.055556  ... -0.086957 -0.111111  -0.066667\n",
              "40              NaN        NaN       NaN  ...       NaN       NaN        NaN\n",
              "45        -0.071429  -0.100000 -0.266667  ...  0.000000 -0.083333   0.000000\n",
              "\n",
              "[10 rows x 9 columns]>"
            ]
          },
          "metadata": {
            "tags": []
          },
          "execution_count": 177
        }
      ]
    },
    {
      "cell_type": "code",
      "metadata": {
        "id": "vnBtGVA91PSQ",
        "colab_type": "code",
        "outputId": "1137d215-f849-4730-f1c9-ab02629baa23",
        "colab": {
          "base_uri": "https://localhost:8080/",
          "height": 312
        }
      },
      "source": [
        "plt.title(\"Tumor Change Over 45 Day Treatment\")\n",
        "plt.xlabel(\"'Capomulin', 'Infubinol', 'Ketapril', 'Placebo'\")\n",
        "plt.ylabel(\"Percent Tumor Volume Change\")\n",
        "\n",
        "\n",
        "\n"
      ],
      "execution_count": 180,
      "outputs": [
        {
          "output_type": "execute_result",
          "data": {
            "text/plain": [
              "Text(0, 0.5, 'Percent Tumor Volume Change')"
            ]
          },
          "metadata": {
            "tags": []
          },
          "execution_count": 180
        },
        {
          "output_type": "display_data",
          "data": {
            "image/png": "[encoded data removed]",
            "text/plain": [
              "<Figure size 432x288 with 1 Axes>"
            ]
          },
          "metadata": {
            "tags": [],
            "needs_background": "light"
          }
        }
      ]
    },
    {
      "cell_type": "code",
      "metadata": {
        "id": "qn2sBcUx1PSS",
        "colab_type": "code",
        "colab": {}
      },
      "source": [
        "\n"
      ],
      "execution_count": 0,
      "outputs": []
    },
    {
      "cell_type": "markdown",
      "metadata": {
        "id": "V3COULF1beFl",
        "colab_type": "text"
      },
      "source": [
        "3 observations: \n",
        "Ketaphril had the highest tumor response\n",
        "It also had the highest metastatic spread, and tied for second lowest survival rate \n",
        "Capomulin had the highest survival rate, but the lowest tumor response. \n",
        "Capomulin also had the lowest metastatic spread. \n",
        "One takeaway from this study might be that some drugs such as Ketaphril might be more appropriate to be used for short, aggressive treatement and ones such as Capomulin could be used over longer courses of treatment where preventing metastatic spread is a main goal. \n"
      ]
    },
    {
      "cell_type": "code",
      "metadata": {
        "id": "thLHzguu1PSW",
        "colab_type": "code",
        "colab": {}
      },
      "source": [
        ""
      ],
      "execution_count": 0,
      "outputs": []
    }
  ]
}